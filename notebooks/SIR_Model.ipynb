{
 "cells": [
  {
   "cell_type": "code",
   "execution_count": 1,
   "metadata": {},
   "outputs": [
    {
     "name": "stdout",
     "output_type": "stream",
     "text": [
      "C:\\WINDOWS\\system32\\applied_data_science_-_covid-19\n"
     ]
    }
   ],
   "source": [
    "import pandas as pd\n",
    "import numpy as np\n",
    "\n",
    "from datetime import datetime\n",
    "import pandas as pd \n",
    "\n",
    "from scipy import optimize\n",
    "from scipy.optimize import curve_fit\n",
    "from scipy import integrate\n",
    "from scipy.integrate import odeint\n",
    "\n",
    "%matplotlib inline\n",
    "import matplotlib as mpl\n",
    "import matplotlib.pyplot as plt\n",
    "\n",
    "import seaborn as sns\n",
    "\n",
    "import dash\n",
    "dash.__version__\n",
    "import dash_core_components as dcc\n",
    "import dash_html_components as html\n",
    "\n",
    "from dash.dependencies import Input, Output, State\n",
    "\n",
    "import plotly\n",
    "import plotly.graph_objects as go\n",
    "\n",
    "\n",
    "import os\n",
    "\n",
    "print(os.getcwd())\n",
    "\n",
    "\n",
    "sns.set(style=\"darkgrid\")\n",
    "\n",
    "mpl.rcParams['figure.figsize'] = (16, 9)\n",
    "pd.set_option('display.max_rows', 500)"
   ]
  },
  {
   "cell_type": "code",
   "execution_count": 2,
   "metadata": {},
   "outputs": [],
   "source": [
    "data_c = pd.read_csv(\"https://raw.githubusercontent.com/CSSEGISandData/COVID-19/master/csse_covid_19_data/csse_covid_19_time_series/time_series_covid19_confirmed_global.csv\")\n",
    "data_c = data_c.drop([\"Province/State\", \"Lat\",\"Long\"], axis =1)\n",
    "data_c = data_c.groupby([\"Country/Region\"]).sum()\n",
    "data_r = pd.read_csv(\"https://raw.githubusercontent.com/CSSEGISandData/COVID-19/master/csse_covid_19_data/csse_covid_19_time_series/time_series_covid19_recovered_global.csv\")\n",
    "data_r = data_r.drop([\"Province/State\", \"Lat\",\"Long\"], axis =1)\n",
    "data_r = data_r.groupby([\"Country/Region\"]).sum()\n",
    "data_d = pd.read_csv(\"https://raw.githubusercontent.com/CSSEGISandData/COVID-19/master/csse_covid_19_data/csse_covid_19_time_series/time_series_covid19_deaths_global.csv\")\n",
    "data_d = data_d.drop([\"Province/State\", \"Lat\",\"Long\"], axis =1)\n",
    "data_d = data_d.groupby([\"Country/Region\"]).sum()"
   ]
  },
  {
   "cell_type": "code",
   "execution_count": 3,
   "metadata": {},
   "outputs": [],
   "source": [
    "def sir_simulations( data_c, data_r, data_d, dates):\n",
    "    duration = 25\n",
    "    \n",
    "    data_c = data_c[(len(data_c)-duration):]\n",
    "    data_r = data_r[(len(data_r)-duration):]\n",
    "    data_d = data_d[(len(data_d)-duration):]\n",
    "    dates = dates[len(dates)-duration: ]\n",
    "    N = 1000000\n",
    "    I0 = data_c[0]\n",
    "    R0 = data_r[0]\n",
    "    S0 = N- R0- I0\n",
    "    \n",
    "    def SIR(y, t, beta, gama):\n",
    "        S = y[0]\n",
    "        I = y[1]\n",
    "        R = y[2]\n",
    "        return -beta*S*I/N, (beta*S*I)/N- (gama*I), gama*I\n",
    "    \n",
    "    def fit_odeint(t, beta, gama):\n",
    "        return odeint(SIR,(S0,I0,R0), t, args = (beta,gama))[:,1]\n",
    "    t = np.arange(len(data_c))\n",
    "    params, cerr = curve_fit(fit_odeint,t, data_c)\n",
    "    beta,gama = params\n",
    "    prediction = list(fit_odeint(t,beta,gama))\n",
    "    \n",
    "    \n",
    "    fig = go.Figure()\n",
    "    fig.add_traces(go.Scatter(x= dates, y= prediction,\n",
    "                              mode='lines',\n",
    "                              name='simulated'))\n",
    "    fig.add_bar(x= dates, y= data_c, name=\"Actual\")\n",
    "    fig.update_layout(height = 800,\n",
    "                      title = {\n",
    "                          'text':\"SIR simulation\",\n",
    "                          'x' : 0.5},\n",
    "                      xaxis_title='Date',\n",
    "                      yaxis_title='Infections')\n",
    "    return fig"
   ]
  },
  {
   "cell_type": "code",
   "execution_count": 4,
   "metadata": {},
   "outputs": [],
   "source": [
    "#fig = go.Figure()\n",
    "#fig.plot(confirmed_cases, recovered_cases, dates)"
   ]
  },
  {
   "cell_type": "code",
   "execution_count": 5,
   "metadata": {},
   "outputs": [],
   "source": [
    "fig = go.Figure()"
   ]
  },
  {
   "cell_type": "code",
   "execution_count": 6,
   "metadata": {},
   "outputs": [],
   "source": [
    "last_date = data_d.T.index[-1]\n",
    "data_table = pd.DataFrame([data_c[last_date], data_r[last_date], data_d[last_date]]).T\n",
    "data_table.columns = ['confirmed', 'recovered', 'deaths']\n",
    "data_table['active'] = data_table.confirmed - data_table.recovered - data_table.deaths\n",
    "data_table['percent_deaths'] = np.around(data_table.deaths / data_table.confirmed, 2)\n",
    "data_table['percent_recoveries'] = np.around(data_table.recovered / data_table.confirmed, 2)\n",
    "data_table = data_table.sort_values(by = 'confirmed', ascending = False)\n",
    "data_table.reset_index(level=0, inplace=True)"
   ]
  },
  {
   "cell_type": "code",
   "execution_count": 7,
   "metadata": {},
   "outputs": [],
   "source": [
    "app= dash.Dash(__name__, suppress_callback_exceptions=True)\n",
    "server=app.server\n",
    "#df = data_table()\n",
    "#data_c, data_r, data_d = data()\n",
    "str_dates = data_c.columns\n",
    "start_date = str_dates[0].split('/')\n",
    "end_date = str_dates[-1].split('/')\n",
    "if len(end_date[0]) == 1:\n",
    "    dates = np.arange(np.datetime64(f'20{start_date[2]}-0{start_date[0]}-{start_date[1]}'), np.datetime64(f'20{end_date[2]}-0{end_date[0]}-{int(end_date[1])+1}'))\n",
    "else:\n",
    "    dates = np.arange(np.datetime64(f'20{start_date[2]}-0{start_date[0]}-{start_date[1]}'), np.datetime64(f'20{end_date[2]}-{end_date[0]}-{int(end_date[1])+1}'))\n",
    "\n",
    "\n",
    "\n",
    "\n",
    "app.layout = html.Div([\n",
    "    \n",
    "    html.Label('SIR_modelling'),\n",
    "    \n",
    "    \n",
    "    dcc.Dropdown(\n",
    "        id=\"country_list\",\n",
    "        options=[ \n",
    "            {'label':country_name, 'value': country_name} for country_name in list(data_c.index)\n",
    "        ],\n",
    "        value= 'Germany',\n",
    "        multi = False\n",
    "    ),\n",
    "    \n",
    "    dcc.Graph(figure=fig, id='sir_simulations')\n",
    "    ])\n",
    "\n",
    "\n",
    " "
   ]
  },
  {
   "cell_type": "code",
   "execution_count": 8,
   "metadata": {},
   "outputs": [],
   "source": [
    "@app.callback(\n",
    "    Output ('sir_simulations' , 'figure'),\n",
    "    [Input('country_list', 'value')])\n",
    "def country_data(country):\n",
    "    \n",
    "    confirmed_cases = list(data_c.loc[f'{country}'])\n",
    "    recovered_cases = list(data_r.loc[f'{country}'])\n",
    "    death_cases = list(data_d.loc[f'{country}'])\n",
    "    #dates = dates[len(dates)-duration: ]\n",
    "    \n",
    "    sir_figure = sir_simulations(confirmed_cases, recovered_cases,death_cases, dates)\n",
    "    \n",
    "    return sir_figure\n",
    "    "
   ]
  },
  {
   "cell_type": "code",
   "execution_count": 9,
   "metadata": {},
   "outputs": [
    {
     "name": "stdout",
     "output_type": "stream",
     "text": [
      "Dash is running on http://127.0.0.1:8050/\n",
      "\n",
      " Warning: This is a development server. Do not use app.run_server\n",
      " in production, use a production WSGI server like gunicorn instead.\n",
      "\n"
     ]
    },
    {
     "name": "stderr",
     "output_type": "stream",
     "text": [
      " * Tip: There are .env or .flaskenv files present. Do \"pip install python-dotenv\" to use them.\r\n"
     ]
    },
    {
     "name": "stdout",
     "output_type": "stream",
     "text": [
      " * Serving Flask app \"__main__\" (lazy loading)\n",
      " * Environment: production\n",
      "   WARNING: This is a development server. Do not use it in a production deployment.\n",
      "   Use a production WSGI server instead.\n",
      " * Debug mode: on\n"
     ]
    }
   ],
   "source": [
    "app.run_server(debug=True, use_reloader= False)"
   ]
  },
  {
   "cell_type": "code",
   "execution_count": null,
   "metadata": {},
   "outputs": [],
   "source": []
  }
 ],
 "metadata": {
  "kernelspec": {
   "display_name": "Python 3",
   "language": "python",
   "name": "python3"
  },
  "language_info": {
   "codemirror_mode": {
    "name": "ipython",
    "version": 3
   },
   "file_extension": ".py",
   "mimetype": "text/x-python",
   "name": "python",
   "nbconvert_exporter": "python",
   "pygments_lexer": "ipython3",
   "version": "3.7.1"
  }
 },
 "nbformat": 4,
 "nbformat_minor": 4
}
